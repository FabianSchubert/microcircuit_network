{
 "cells": [
  {
   "cell_type": "code",
   "execution_count": 1,
   "id": "fc2f1a70",
   "metadata": {},
   "outputs": [],
   "source": [
    "%matplotlib inline\n",
    "import matplotlib.pyplot as plt\n",
    "import matplotlib as mpl\n",
    "import pandas as pd\n",
    "import numpy as np\n",
    "import seaborn as sns\n",
    "sns.set()\n",
    "plt.style.use(\"custom.mplstyle\")\n",
    "#sns.set(font_scale=0.72)\n",
    "\n",
    "TEXTWIDTH = 5.6"
   ]
  },
  {
   "cell_type": "code",
   "execution_count": 2,
   "id": "e26bd057",
   "metadata": {},
   "outputs": [],
   "source": [
    "df_learn = pd.read_csv(\"../experiments/mnist/df_learn.csv\")\n",
    "df_runtime = pd.read_csv(\"../experiments/mnist/df_runtime.csv\")\n",
    "df_spikes = pd.read_csv(\"../experiments/mnist/df_spikes.csv\")"
   ]
  },
  {
   "cell_type": "code",
   "execution_count": 3,
   "id": "8072a5d8-0f1c-41ce-a4b5-495a714a2547",
   "metadata": {},
   "outputs": [],
   "source": [
    "df_learn[\"Model\"] = df_learn[\"Model\"].str.replace(\"Spike\", \"Event\")\n",
    "df_runtime[\"Model\"] = df_runtime[\"Model\"].str.replace(\"Spike\", \"Event\")\n",
    "\n",
    "df_learn[\"Model\"] = df_learn[\"Model\"].str.replace(\"Rate\", \"Continuous\")\n",
    "df_runtime[\"Model\"] = df_runtime[\"Model\"].str.replace(\"Rate\", \"Continuous\")\n",
    "\n",
    "df_learn[\"Method\"] = df_learn[\"Method\"].str.replace(\"Feedback Align\", \"Exact Feedb.\")\n",
    "df_runtime[\"Method\"] = df_runtime[\"Method\"].str.replace(\"Feedback Align\", \"Exact Feedb.\")\n",
    "\n",
    "df_learn[\"Method\"] = df_learn[\"Method\"].str.replace(\"Random Feedback\", \"Feedb. Alignment\")\n",
    "df_runtime[\"Method\"] = df_runtime[\"Method\"].str.replace(\"Random Feedback\", \"Feedb. Alignment\")\n",
    "\n",
    "df_runtime[\"Runtime $[s]$\"] = df_runtime[\"Runtime\"]"
   ]
  },
  {
   "cell_type": "code",
   "execution_count": 4,
   "id": "a1e76a0a-cdfa-4610-aba1-e242cf2fe511",
   "metadata": {},
   "outputs": [
    {
     "data": {
      "text/html": [
       "<div>\n",
       "<style scoped>\n",
       "    .dataframe tbody tr th:only-of-type {\n",
       "        vertical-align: middle;\n",
       "    }\n",
       "\n",
       "    .dataframe tbody tr th {\n",
       "        vertical-align: top;\n",
       "    }\n",
       "\n",
       "    .dataframe thead th {\n",
       "        text-align: right;\n",
       "    }\n",
       "</style>\n",
       "<table border=\"1\" class=\"dataframe\">\n",
       "  <thead>\n",
       "    <tr style=\"text-align: right;\">\n",
       "      <th></th>\n",
       "      <th>Epoch</th>\n",
       "      <th>Sim ID</th>\n",
       "      <th>Accuracy</th>\n",
       "      <th>Loss</th>\n",
       "      <th>Model</th>\n",
       "      <th>Method</th>\n",
       "    </tr>\n",
       "  </thead>\n",
       "  <tbody>\n",
       "    <tr>\n",
       "      <th>0</th>\n",
       "      <td>0.000000</td>\n",
       "      <td>0</td>\n",
       "      <td>0.133015</td>\n",
       "      <td>0.291936</td>\n",
       "      <td>Event</td>\n",
       "      <td>Feedb. Alignment</td>\n",
       "    </tr>\n",
       "    <tr>\n",
       "      <th>1</th>\n",
       "      <td>5.555556</td>\n",
       "      <td>0</td>\n",
       "      <td>0.901887</td>\n",
       "      <td>0.023487</td>\n",
       "      <td>Event</td>\n",
       "      <td>Feedb. Alignment</td>\n",
       "    </tr>\n",
       "    <tr>\n",
       "      <th>2</th>\n",
       "      <td>11.111111</td>\n",
       "      <td>0</td>\n",
       "      <td>0.926847</td>\n",
       "      <td>0.014749</td>\n",
       "      <td>Event</td>\n",
       "      <td>Feedb. Alignment</td>\n",
       "    </tr>\n",
       "    <tr>\n",
       "      <th>3</th>\n",
       "      <td>16.666667</td>\n",
       "      <td>0</td>\n",
       "      <td>0.937804</td>\n",
       "      <td>0.011903</td>\n",
       "      <td>Event</td>\n",
       "      <td>Feedb. Alignment</td>\n",
       "    </tr>\n",
       "    <tr>\n",
       "      <th>4</th>\n",
       "      <td>22.222222</td>\n",
       "      <td>0</td>\n",
       "      <td>0.943182</td>\n",
       "      <td>0.010630</td>\n",
       "      <td>Event</td>\n",
       "      <td>Feedb. Alignment</td>\n",
       "    </tr>\n",
       "  </tbody>\n",
       "</table>\n",
       "</div>"
      ],
      "text/plain": [
       "       Epoch  Sim ID  Accuracy      Loss  Model            Method\n",
       "0   0.000000       0  0.133015  0.291936  Event  Feedb. Alignment\n",
       "1   5.555556       0  0.901887  0.023487  Event  Feedb. Alignment\n",
       "2  11.111111       0  0.926847  0.014749  Event  Feedb. Alignment\n",
       "3  16.666667       0  0.937804  0.011903  Event  Feedb. Alignment\n",
       "4  22.222222       0  0.943182  0.010630  Event  Feedb. Alignment"
      ]
     },
     "execution_count": 4,
     "metadata": {},
     "output_type": "execute_result"
    }
   ],
   "source": [
    "df_learn.head()"
   ]
  },
  {
   "cell_type": "code",
   "execution_count": 6,
   "id": "e74247c2",
   "metadata": {},
   "outputs": [
    {
     "data": {
      "text/html": [
       "<div>\n",
       "<style scoped>\n",
       "    .dataframe tbody tr th:only-of-type {\n",
       "        vertical-align: middle;\n",
       "    }\n",
       "\n",
       "    .dataframe tbody tr th {\n",
       "        vertical-align: top;\n",
       "    }\n",
       "\n",
       "    .dataframe thead th {\n",
       "        text-align: right;\n",
       "    }\n",
       "</style>\n",
       "<table border=\"1\" class=\"dataframe\">\n",
       "  <thead>\n",
       "    <tr style=\"text-align: right;\">\n",
       "      <th></th>\n",
       "      <th>t</th>\n",
       "      <th>id</th>\n",
       "    </tr>\n",
       "  </thead>\n",
       "  <tbody>\n",
       "    <tr>\n",
       "      <th>0</th>\n",
       "      <td>0.0</td>\n",
       "      <td>0</td>\n",
       "    </tr>\n",
       "    <tr>\n",
       "      <th>1</th>\n",
       "      <td>0.0</td>\n",
       "      <td>1</td>\n",
       "    </tr>\n",
       "    <tr>\n",
       "      <th>2</th>\n",
       "      <td>0.0</td>\n",
       "      <td>2</td>\n",
       "    </tr>\n",
       "    <tr>\n",
       "      <th>3</th>\n",
       "      <td>0.0</td>\n",
       "      <td>3</td>\n",
       "    </tr>\n",
       "    <tr>\n",
       "      <th>4</th>\n",
       "      <td>0.0</td>\n",
       "      <td>4</td>\n",
       "    </tr>\n",
       "  </tbody>\n",
       "</table>\n",
       "</div>"
      ],
      "text/plain": [
       "     t  id\n",
       "0  0.0   0\n",
       "1  0.0   1\n",
       "2  0.0   2\n",
       "3  0.0   3\n",
       "4  0.0   4"
      ]
     },
     "execution_count": 6,
     "metadata": {},
     "output_type": "execute_result"
    }
   ],
   "source": [
    "df_spikes.head()"
   ]
  },
  {
   "cell_type": "code",
   "execution_count": 9,
   "id": "9e23a2e9",
   "metadata": {},
   "outputs": [
    {
     "data": {
      "image/png": "[encoded data removed]",
      "text/plain": [
       "<Figure size 560x300 with 2 Axes>"
      ]
     },
     "metadata": {},
     "output_type": "display_data"
    }
   ],
   "source": [
    "fig, ax = plt.subplots(1, 2, figsize=(TEXTWIDTH,3))\n",
    "\n",
    "sns.lineplot(df_learn,#[df_learn[\"Method\"] == \"Random Feedback\"],\n",
    "             x=\"Epoch\", y=\"Accuracy\", hue=\"Model\", ax=ax[0], style=\"Method\")#, units=\"Sim ID\", estimator=None)\n",
    "ax[0].legend()\n",
    "\n",
    "handles, labels = ax[0].get_legend_handles_labels()\n",
    "#ax[0].legend(handles=[handles[i] for i in [1,2,4,5]], labels=[labels[i] for i in[1,2,4,5]])\n",
    "\n",
    "ax[0].set_ylim(bottom=0.3, top=1.025)\n",
    "ax[0].set_title(\"A\", loc=\"left\", fontweight=\"bold\")\n",
    "\n",
    "'''\n",
    "sns.barplot(data=df_runtime, x=\"Method\",\n",
    "            hue=\"Model\", y=\"Runtime $[s]$\", ax=ax[1])\n",
    "handles, labels = ax[1].get_legend_handles_labels()\n",
    "ax[1].legend(handles=handles, labels=labels)\n",
    "ax[1].set_title(\"B\", loc=\"left\", fontweight=\"bold\")\n",
    "\n",
    "ax[1].set_ylim(top=2700.)\n",
    "'''\n",
    "\n",
    "fig.tight_layout(pad=0.0, w_pad=0.6)\n",
    "\n",
    "#fig.savefig(\"mnist_analysis.png\", dpi=500)\n",
    "fig.savefig(\"mnist_analysis.pdf\", bbox_inches=\"tight\")\n",
    "plt.show()"
   ]
  },
  {
   "cell_type": "code",
   "execution_count": 17,
   "id": "3d46f4c1",
   "metadata": {},
   "outputs": [
    {
     "data": {
      "image/png": "[encoded data removed]",
      "text/plain": [
       "<Figure size 560x280 with 1 Axes>"
      ]
     },
     "metadata": {},
     "output_type": "display_data"
    }
   ],
   "source": [
    "fig, ax = plt.subplots(1, 1, figsize=(TEXTWIDTH, TEXTWIDTH * 0.5))\n",
    "\n",
    "ax.plot(df_spikes[\"t\"], df_spikes[\"id\"], '.', markersize=1)\n",
    "\n",
    "ax.set_xlim(right=400.)\n",
    "\n",
    "ax.set_xlabel(\"$t$\")\n",
    "ax.set_ylabel(\"Neuron ID\")\n",
    "\n",
    "fig.tight_layout(pad=0.0)\n",
    "\n",
    "fig.savefig(\"mnist_spikes.pdf\", bbox_inches=\"tight\")\n",
    "\n",
    "plt.show()"
   ]
  },
  {
   "cell_type": "code",
   "execution_count": null,
   "id": "5caa4970-b283-42bd-a35e-b09813fe2cb1",
   "metadata": {},
   "outputs": [],
   "source": []
  }
 ],
 "metadata": {
  "kernelspec": {
   "display_name": "Python 3 (ipykernel)",
   "language": "python",
   "name": "python3"
  },
  "language_info": {
   "codemirror_mode": {
    "name": "ipython",
    "version": 3
   },
   "file_extension": ".py",
   "mimetype": "text/x-python",
   "name": "python",
   "nbconvert_exporter": "python",
   "pygments_lexer": "ipython3",
   "version": "3.10.9"
  }
 },
 "nbformat": 4,
 "nbformat_minor": 5
}
