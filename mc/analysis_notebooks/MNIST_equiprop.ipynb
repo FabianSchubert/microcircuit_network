{
 "cells": [
  {
   "cell_type": "code",
   "execution_count": 12,
   "id": "61c33fc9-3e75-419a-8950-7b88ffacfb0d",
   "metadata": {},
   "outputs": [],
   "source": [
    "%matplotlib inline\n",
    "import matplotlib.pyplot as plt\n",
    "import matplotlib as mpl\n",
    "import pandas as pd\n",
    "import numpy as np\n",
    "import seaborn as sns\n",
    "sns.set()\n",
    "plt.style.use(\"custom.mplstyle\")\n",
    "#sns.set(font_scale=0.72)\n",
    "\n",
    "TEXTWIDTH = 5.6"
   ]
  },
  {
   "cell_type": "code",
   "execution_count": 13,
   "id": "7832c410-bd4a-400d-9a06-972ca4690c4a",
   "metadata": {},
   "outputs": [],
   "source": [
    "df_learn = pd.read_csv(\"../experiments/equiprop/mnist/results_data/df_learn_0.csv\")\n",
    "df_runtime = pd.read_csv(\"../experiments/equiprop/mnist/results_data/df_runtime_0.csv\")\n",
    "#df_spikes = pd.read_csv(\"../experiments/mc/mnist_le_drop_in_syn/df_spikes.csv\")"
   ]
  },
  {
   "cell_type": "code",
   "execution_count": 14,
   "id": "59b8cf3c-25f3-4826-9e4a-775e5511396d",
   "metadata": {},
   "outputs": [],
   "source": [
    "df_learn[\"Model\"] = df_learn[\"Model\"].str.replace(\"Spike\", \"Event\")\n",
    "df_runtime[\"Model\"] = df_runtime[\"Model\"].str.replace(\"Spike\", \"Event\")\n",
    "\n",
    "df_learn[\"Model\"] = df_learn[\"Model\"].str.replace(\"Rate\", \"Continuous\")\n",
    "df_runtime[\"Model\"] = df_runtime[\"Model\"].str.replace(\"Rate\", \"Continuous\")\n",
    "\n",
    "df_runtime[\"Runtime $[s]$\"] = df_runtime[\"Runtime\"]\n",
    "df_runtime[\"Runtime $[\\\\rm min]$\"] = df_runtime[\"Runtime\"]/60."
   ]
  },
  {
   "cell_type": "code",
   "execution_count": 15,
   "id": "983d983b-644d-4817-8fd0-ea3b2bdb3438",
   "metadata": {},
   "outputs": [
    {
     "data": {
      "text/html": [
       "<div>\n",
       "<style scoped>\n",
       "    .dataframe tbody tr th:only-of-type {\n",
       "        vertical-align: middle;\n",
       "    }\n",
       "\n",
       "    .dataframe tbody tr th {\n",
       "        vertical-align: top;\n",
       "    }\n",
       "\n",
       "    .dataframe thead th {\n",
       "        text-align: right;\n",
       "    }\n",
       "</style>\n",
       "<table border=\"1\" class=\"dataframe\">\n",
       "  <thead>\n",
       "    <tr style=\"text-align: right;\">\n",
       "      <th></th>\n",
       "      <th>Epoch</th>\n",
       "      <th>Sim ID</th>\n",
       "      <th>Accuracy</th>\n",
       "      <th>Loss</th>\n",
       "      <th>Model</th>\n",
       "    </tr>\n",
       "  </thead>\n",
       "  <tbody>\n",
       "    <tr>\n",
       "      <th>0</th>\n",
       "      <td>0.000000</td>\n",
       "      <td>0</td>\n",
       "      <td>0.090706</td>\n",
       "      <td>0.40323</td>\n",
       "      <td>Event</td>\n",
       "    </tr>\n",
       "    <tr>\n",
       "      <th>1</th>\n",
       "      <td>0.555556</td>\n",
       "      <td>0</td>\n",
       "      <td>0.097301</td>\n",
       "      <td>0.25000</td>\n",
       "      <td>Event</td>\n",
       "    </tr>\n",
       "    <tr>\n",
       "      <th>2</th>\n",
       "      <td>1.111111</td>\n",
       "      <td>0</td>\n",
       "      <td>0.097301</td>\n",
       "      <td>0.25000</td>\n",
       "      <td>Event</td>\n",
       "    </tr>\n",
       "    <tr>\n",
       "      <th>3</th>\n",
       "      <td>1.666667</td>\n",
       "      <td>0</td>\n",
       "      <td>0.097301</td>\n",
       "      <td>0.25000</td>\n",
       "      <td>Event</td>\n",
       "    </tr>\n",
       "    <tr>\n",
       "      <th>4</th>\n",
       "      <td>2.222222</td>\n",
       "      <td>0</td>\n",
       "      <td>0.097301</td>\n",
       "      <td>0.25000</td>\n",
       "      <td>Event</td>\n",
       "    </tr>\n",
       "    <tr>\n",
       "      <th>5</th>\n",
       "      <td>2.777778</td>\n",
       "      <td>0</td>\n",
       "      <td>0.097301</td>\n",
       "      <td>0.25000</td>\n",
       "      <td>Event</td>\n",
       "    </tr>\n",
       "    <tr>\n",
       "      <th>6</th>\n",
       "      <td>3.333333</td>\n",
       "      <td>0</td>\n",
       "      <td>0.097301</td>\n",
       "      <td>0.25000</td>\n",
       "      <td>Event</td>\n",
       "    </tr>\n",
       "    <tr>\n",
       "      <th>7</th>\n",
       "      <td>3.888889</td>\n",
       "      <td>0</td>\n",
       "      <td>0.097301</td>\n",
       "      <td>0.25000</td>\n",
       "      <td>Event</td>\n",
       "    </tr>\n",
       "    <tr>\n",
       "      <th>8</th>\n",
       "      <td>4.444444</td>\n",
       "      <td>0</td>\n",
       "      <td>0.097301</td>\n",
       "      <td>0.25000</td>\n",
       "      <td>Event</td>\n",
       "    </tr>\n",
       "    <tr>\n",
       "      <th>9</th>\n",
       "      <td>5.000000</td>\n",
       "      <td>0</td>\n",
       "      <td>0.097301</td>\n",
       "      <td>0.25000</td>\n",
       "      <td>Event</td>\n",
       "    </tr>\n",
       "  </tbody>\n",
       "</table>\n",
       "</div>"
      ],
      "text/plain": [
       "      Epoch  Sim ID  Accuracy     Loss  Model\n",
       "0  0.000000       0  0.090706  0.40323  Event\n",
       "1  0.555556       0  0.097301  0.25000  Event\n",
       "2  1.111111       0  0.097301  0.25000  Event\n",
       "3  1.666667       0  0.097301  0.25000  Event\n",
       "4  2.222222       0  0.097301  0.25000  Event\n",
       "5  2.777778       0  0.097301  0.25000  Event\n",
       "6  3.333333       0  0.097301  0.25000  Event\n",
       "7  3.888889       0  0.097301  0.25000  Event\n",
       "8  4.444444       0  0.097301  0.25000  Event\n",
       "9  5.000000       0  0.097301  0.25000  Event"
      ]
     },
     "execution_count": 15,
     "metadata": {},
     "output_type": "execute_result"
    }
   ],
   "source": [
    "df_learn"
   ]
  },
  {
   "cell_type": "code",
   "execution_count": 16,
   "id": "f5da4ee3-de57-4a39-8745-14035441ddf1",
   "metadata": {},
   "outputs": [
    {
     "data": {
      "image/png": "[encoded data removed]",
      "text/plain": [
       "<Figure size 560x300 with 2 Axes>"
      ]
     },
     "metadata": {},
     "output_type": "display_data"
    }
   ],
   "source": [
    "fig, ax = plt.subplots(1, 2, figsize=(TEXTWIDTH,3))\n",
    "\n",
    "sns.lineplot(df_learn,#[df_learn[\"Method\"] == \"Random Feedback\"],\n",
    "             x=\"Epoch\", y=\"Accuracy\", hue=\"Model\", ax=ax[0])#, units=\"Sim ID\", estimator=None)\n",
    "ax[0].legend()\n",
    "\n",
    "handles, labels = ax[0].get_legend_handles_labels()\n",
    "#ax[0].legend(handles=[handles[i] for i in [1,2,4,5]], labels=[labels[i] for i in[1,2,4,5]])\n",
    "\n",
    "#ax[0].set_ylim(bottom=0.5, top=1.025)\n",
    "ax[0].set_title(\"A\", loc=\"left\", fontweight=\"bold\")\n",
    "\n",
    "'''\n",
    "sns.barplot(data=df_runtime, x=\"Method\",\n",
    "            hue=\"Model\", y=\"Runtime $[\\\\rm min]$\", ax=ax[1])\n",
    "#sns.violinplot(data=df_runtime, x=\"Method\",\n",
    "#               hue=\"Model\", y=\"Runtime $[s]$\", ax=ax[1])\n",
    "handles, labels = ax[1].get_legend_handles_labels()\n",
    "ax[1].legend(handles=handles, labels=labels)\n",
    "ax[1].set_title(\"B\", loc=\"left\", fontweight=\"bold\")\n",
    "\n",
    "ax[1].set_yscale(\"log\")\n",
    "ax[1].set_ylim(bottom=1.)\n",
    "#ax[1].set_ylim(top=2700.)\n",
    "#'''\n",
    "\n",
    "fig.tight_layout(pad=0.0, w_pad=0.6)\n",
    "\n",
    "#fig.savefig(\"mnist_analysis.png\", dpi=500)\n",
    "fig.savefig(\"mnist_equiprop_analysis.pdf\", bbox_inches=\"tight\")\n",
    "plt.show()"
   ]
  },
  {
   "cell_type": "code",
   "execution_count": 16,
   "id": "0077e617-5b7b-4572-896f-5a22a63c5ab8",
   "metadata": {},
   "outputs": [
    {
     "data": {
      "image/png": "[encoded data removed]",
      "text/plain": [
       "<Figure size 560x280 with 1 Axes>"
      ]
     },
     "metadata": {},
     "output_type": "display_data"
    }
   ],
   "source": [
    "fig, ax = plt.subplots(1, 1, figsize=(TEXTWIDTH, TEXTWIDTH * 0.5))\n",
    "\n",
    "ax.plot(df_spikes[\"t\"], df_spikes[\"id\"], '.', markersize=1)\n",
    "\n",
    "ax.set_xlim(right=400.)\n",
    "\n",
    "ax.set_xlabel(\"$t$\")\n",
    "ax.set_ylabel(\"Neuron ID\")\n",
    "\n",
    "fig.tight_layout(pad=0.0)\n",
    "\n",
    "fig.savefig(\"mnist_spikes.pdf\", bbox_inches=\"tight\")\n",
    "\n",
    "plt.show()"
   ]
  },
  {
   "cell_type": "code",
   "execution_count": null,
   "id": "41301e6a-10d1-4673-a1f3-3e62ebdb5940",
   "metadata": {},
   "outputs": [],
   "source": []
  }
 ],
 "metadata": {
  "kernelspec": {
   "display_name": "Python 3 (ipykernel)",
   "language": "python",
   "name": "python3"
  },
  "language_info": {
   "codemirror_mode": {
    "name": "ipython",
    "version": 3
   },
   "file_extension": ".py",
   "mimetype": "text/x-python",
   "name": "python",
   "nbconvert_exporter": "python",
   "pygments_lexer": "ipython3",
   "version": "3.10.9"
  }
 },
 "nbformat": 4,
 "nbformat_minor": 5
}
