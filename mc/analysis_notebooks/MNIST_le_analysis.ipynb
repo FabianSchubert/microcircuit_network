{
 "cells": [
  {
   "cell_type": "code",
   "execution_count": 9,
   "id": "61c33fc9-3e75-419a-8950-7b88ffacfb0d",
   "metadata": {},
   "outputs": [],
   "source": [
    "%matplotlib inline\n",
    "import matplotlib.pyplot as plt\n",
    "import matplotlib as mpl\n",
    "import pandas as pd\n",
    "import numpy as np\n",
    "import seaborn as sns\n",
    "sns.set()\n",
    "plt.style.use(\"custom.mplstyle\")\n",
    "#sns.set(font_scale=0.72)\n",
    "\n",
    "TEXTWIDTH = 5.6"
   ]
  },
  {
   "cell_type": "code",
   "execution_count": 10,
   "id": "7832c410-bd4a-400d-9a06-972ca4690c4a",
   "metadata": {},
   "outputs": [],
   "source": [
    "df_learn = pd.read_csv(\"../experiments/mnist_le/results_data/df_learn_0.csv\")\n",
    "df_runtime = pd.read_csv(\"../experiments/mnist_le/results_data/df_runtime_0.csv\")\n",
    "#df_spikes = pd.read_csv(\"../experiments/mnist_le/df_spikes.csv\")"
   ]
  },
  {
   "cell_type": "code",
   "execution_count": 11,
   "id": "59b8cf3c-25f3-4826-9e4a-775e5511396d",
   "metadata": {},
   "outputs": [],
   "source": [
    "df_learn[\"Model\"] = df_learn[\"Model\"].str.replace(\"Spike\", \"Event\")\n",
    "df_runtime[\"Model\"] = df_runtime[\"Model\"].str.replace(\"Spike\", \"Event\")\n",
    "\n",
    "df_learn[\"Model\"] = df_learn[\"Model\"].str.replace(\"Rate\", \"Continuous\")\n",
    "df_runtime[\"Model\"] = df_runtime[\"Model\"].str.replace(\"Rate\", \"Continuous\")\n",
    "\n",
    "df_learn[\"Method\"] = df_learn[\"Method\"].str.replace(\"Feedback Align\", \"Exact Feedb.\")\n",
    "df_runtime[\"Method\"] = df_runtime[\"Method\"].str.replace(\"Feedback Align\", \"Exact Feedb.\")\n",
    "\n",
    "df_learn[\"Method\"] = df_learn[\"Method\"].str.replace(\"Random Feedback\", \"Feedb. Alignment\")\n",
    "df_runtime[\"Method\"] = df_runtime[\"Method\"].str.replace(\"Random Feedback\", \"Feedb. Alignment\")\n",
    "\n",
    "df_runtime[\"Runtime $[s]$\"] = df_runtime[\"Runtime\"]"
   ]
  },
  {
   "cell_type": "code",
   "execution_count": 14,
   "id": "86ee5998-04ab-489d-b932-9c39c51be9a7",
   "metadata": {},
   "outputs": [
    {
     "data": {
      "text/html": [
       "<div>\n",
       "<style scoped>\n",
       "    .dataframe tbody tr th:only-of-type {\n",
       "        vertical-align: middle;\n",
       "    }\n",
       "\n",
       "    .dataframe tbody tr th {\n",
       "        vertical-align: top;\n",
       "    }\n",
       "\n",
       "    .dataframe thead th {\n",
       "        text-align: right;\n",
       "    }\n",
       "</style>\n",
       "<table border=\"1\" class=\"dataframe\">\n",
       "  <thead>\n",
       "    <tr style=\"text-align: right;\">\n",
       "      <th></th>\n",
       "      <th>Epoch</th>\n",
       "      <th>Sim ID</th>\n",
       "      <th>Accuracy</th>\n",
       "      <th>Loss</th>\n",
       "      <th>Model</th>\n",
       "      <th>Method</th>\n",
       "    </tr>\n",
       "  </thead>\n",
       "  <tbody>\n",
       "    <tr>\n",
       "      <th>0</th>\n",
       "      <td>0.000000</td>\n",
       "      <td>0</td>\n",
       "      <td>0.097910</td>\n",
       "      <td>0.421072</td>\n",
       "      <td>Event</td>\n",
       "      <td>Feedb. Alignment</td>\n",
       "    </tr>\n",
       "    <tr>\n",
       "      <th>1</th>\n",
       "      <td>5.555556</td>\n",
       "      <td>0</td>\n",
       "      <td>0.901075</td>\n",
       "      <td>0.025291</td>\n",
       "      <td>Event</td>\n",
       "      <td>Feedb. Alignment</td>\n",
       "    </tr>\n",
       "    <tr>\n",
       "      <th>2</th>\n",
       "      <td>11.111111</td>\n",
       "      <td>0</td>\n",
       "      <td>0.922382</td>\n",
       "      <td>0.015142</td>\n",
       "      <td>Event</td>\n",
       "      <td>Feedb. Alignment</td>\n",
       "    </tr>\n",
       "    <tr>\n",
       "      <th>3</th>\n",
       "      <td>16.666667</td>\n",
       "      <td>0</td>\n",
       "      <td>0.934253</td>\n",
       "      <td>0.012297</td>\n",
       "      <td>Event</td>\n",
       "      <td>Feedb. Alignment</td>\n",
       "    </tr>\n",
       "    <tr>\n",
       "      <th>4</th>\n",
       "      <td>22.222222</td>\n",
       "      <td>0</td>\n",
       "      <td>0.934355</td>\n",
       "      <td>0.011415</td>\n",
       "      <td>Event</td>\n",
       "      <td>Feedb. Alignment</td>\n",
       "    </tr>\n",
       "    <tr>\n",
       "      <th>5</th>\n",
       "      <td>27.777778</td>\n",
       "      <td>0</td>\n",
       "      <td>0.938210</td>\n",
       "      <td>0.011058</td>\n",
       "      <td>Event</td>\n",
       "      <td>Feedb. Alignment</td>\n",
       "    </tr>\n",
       "    <tr>\n",
       "      <th>6</th>\n",
       "      <td>33.333333</td>\n",
       "      <td>0</td>\n",
       "      <td>0.938210</td>\n",
       "      <td>0.010903</td>\n",
       "      <td>Event</td>\n",
       "      <td>Feedb. Alignment</td>\n",
       "    </tr>\n",
       "    <tr>\n",
       "      <th>7</th>\n",
       "      <td>38.888889</td>\n",
       "      <td>0</td>\n",
       "      <td>0.939631</td>\n",
       "      <td>0.010695</td>\n",
       "      <td>Event</td>\n",
       "      <td>Feedb. Alignment</td>\n",
       "    </tr>\n",
       "    <tr>\n",
       "      <th>8</th>\n",
       "      <td>44.444444</td>\n",
       "      <td>0</td>\n",
       "      <td>0.939326</td>\n",
       "      <td>0.010619</td>\n",
       "      <td>Event</td>\n",
       "      <td>Feedb. Alignment</td>\n",
       "    </tr>\n",
       "    <tr>\n",
       "      <th>9</th>\n",
       "      <td>50.000000</td>\n",
       "      <td>0</td>\n",
       "      <td>0.939022</td>\n",
       "      <td>0.010696</td>\n",
       "      <td>Event</td>\n",
       "      <td>Feedb. Alignment</td>\n",
       "    </tr>\n",
       "  </tbody>\n",
       "</table>\n",
       "</div>"
      ],
      "text/plain": [
       "       Epoch  Sim ID  Accuracy      Loss  Model            Method\n",
       "0   0.000000       0  0.097910  0.421072  Event  Feedb. Alignment\n",
       "1   5.555556       0  0.901075  0.025291  Event  Feedb. Alignment\n",
       "2  11.111111       0  0.922382  0.015142  Event  Feedb. Alignment\n",
       "3  16.666667       0  0.934253  0.012297  Event  Feedb. Alignment\n",
       "4  22.222222       0  0.934355  0.011415  Event  Feedb. Alignment\n",
       "5  27.777778       0  0.938210  0.011058  Event  Feedb. Alignment\n",
       "6  33.333333       0  0.938210  0.010903  Event  Feedb. Alignment\n",
       "7  38.888889       0  0.939631  0.010695  Event  Feedb. Alignment\n",
       "8  44.444444       0  0.939326  0.010619  Event  Feedb. Alignment\n",
       "9  50.000000       0  0.939022  0.010696  Event  Feedb. Alignment"
      ]
     },
     "execution_count": 14,
     "metadata": {},
     "output_type": "execute_result"
    }
   ],
   "source": [
    "df_learn"
   ]
  },
  {
   "cell_type": "code",
   "execution_count": 12,
   "id": "f5da4ee3-de57-4a39-8745-14035441ddf1",
   "metadata": {},
   "outputs": [
    {
     "data": {
      "image/png": "[encoded data removed]",
      "text/plain": [
       "<Figure size 560x300 with 2 Axes>"
      ]
     },
     "metadata": {},
     "output_type": "display_data"
    }
   ],
   "source": [
    "fig, ax = plt.subplots(1, 2, figsize=(TEXTWIDTH,3))\n",
    "\n",
    "sns.lineplot(df_learn,#[df_learn[\"Method\"] == \"Random Feedback\"],\n",
    "             x=\"Epoch\", y=\"Accuracy\", hue=\"Model\", ax=ax[0], style=\"Method\")#, units=\"Sim ID\", estimator=None)\n",
    "ax[0].legend()\n",
    "\n",
    "handles, labels = ax[0].get_legend_handles_labels()\n",
    "#ax[0].legend(handles=[handles[i] for i in [1,2,4,5]], labels=[labels[i] for i in[1,2,4,5]])\n",
    "\n",
    "ax[0].set_ylim(bottom=0.3, top=1.025)\n",
    "ax[0].set_title(\"A\", loc=\"left\", fontweight=\"bold\")\n",
    "\n",
    "'''\n",
    "sns.barplot(data=df_runtime, x=\"Method\",\n",
    "            hue=\"Model\", y=\"Runtime $[s]$\", ax=ax[1])\n",
    "handles, labels = ax[1].get_legend_handles_labels()\n",
    "ax[1].legend(handles=handles, labels=labels)\n",
    "ax[1].set_title(\"B\", loc=\"left\", fontweight=\"bold\")\n",
    "\n",
    "ax[1].set_ylim(top=2700.)\n",
    "'''\n",
    "\n",
    "fig.tight_layout(pad=0.0, w_pad=0.6)\n",
    "\n",
    "#fig.savefig(\"mnist_analysis.png\", dpi=500)\n",
    "fig.savefig(\"mnist_analysis.pdf\", bbox_inches=\"tight\")\n",
    "plt.show()"
   ]
  },
  {
   "cell_type": "code",
   "execution_count": 16,
   "id": "0077e617-5b7b-4572-896f-5a22a63c5ab8",
   "metadata": {},
   "outputs": [
    {
     "data": {
      "image/png": "[encoded data removed]",
      "text/plain": [
       "<Figure size 560x280 with 1 Axes>"
      ]
     },
     "metadata": {},
     "output_type": "display_data"
    }
   ],
   "source": [
    "fig, ax = plt.subplots(1, 1, figsize=(TEXTWIDTH, TEXTWIDTH * 0.5))\n",
    "\n",
    "ax.plot(df_spikes[\"t\"], df_spikes[\"id\"], '.', markersize=1)\n",
    "\n",
    "ax.set_xlim(right=400.)\n",
    "\n",
    "ax.set_xlabel(\"$t$\")\n",
    "ax.set_ylabel(\"Neuron ID\")\n",
    "\n",
    "fig.tight_layout(pad=0.0)\n",
    "\n",
    "fig.savefig(\"mnist_spikes.pdf\", bbox_inches=\"tight\")\n",
    "\n",
    "plt.show()"
   ]
  },
  {
   "cell_type": "code",
   "execution_count": null,
   "id": "41301e6a-10d1-4673-a1f3-3e62ebdb5940",
   "metadata": {},
   "outputs": [],
   "source": []
  }
 ],
 "metadata": {
  "kernelspec": {
   "display_name": "Python 3 (ipykernel)",
   "language": "python",
   "name": "python3"
  },
  "language_info": {
   "codemirror_mode": {
    "name": "ipython",
    "version": 3
   },
   "file_extension": ".py",
   "mimetype": "text/x-python",
   "name": "python",
   "nbconvert_exporter": "python",
   "pygments_lexer": "ipython3",
   "version": "3.10.9"
  }
 },
 "nbformat": 4,
 "nbformat_minor": 5
}
